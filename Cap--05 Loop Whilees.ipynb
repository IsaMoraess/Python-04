{
 "cells": [
  {
   "cell_type": "markdown",
   "id": "8ba0723c",
   "metadata": {},
   "source": [
    "# Loop While"
   ]
  },
  {
   "cell_type": "code",
   "execution_count": 1,
   "id": "abb7c9d4",
   "metadata": {},
   "outputs": [
    {
     "name": "stdout",
     "output_type": "stream",
     "text": [
      "0\n",
      "1\n",
      "2\n",
      "3\n",
      "4\n",
      "5\n",
      "6\n",
      "7\n",
      "8\n",
      "9\n"
     ]
    }
   ],
   "source": [
    "# Usando o loop while para imprimir valores de 0 a 9\n",
    "# A condiçao tem q deixa de ser verdadeira dentro do loop, se nao pode travar o pc\n",
    "valor = 0\n",
    "while valor < 10:\n",
    "    print(valor)\n",
    "    valor = valor + 1\n",
    "    "
   ]
  },
  {
   "cell_type": "code",
   "execution_count": 11,
   "id": "f911e16a",
   "metadata": {},
   "outputs": [],
   "source": [
    "# Entra no loop somente se a condiçao for verdaadeira \n",
    "valor = 11\n",
    "while valor < 10:\n",
    "    print(v)\n",
    "    valor = valor + 1\n",
    "    "
   ]
  },
  {
   "cell_type": "code",
   "execution_count": 3,
   "id": "0c8b879a",
   "metadata": {},
   "outputs": [
    {
     "name": "stdout",
     "output_type": "stream",
     "text": [
      "O valor x nessa intençao e: 0\n",
      " x ainda e maior que 10, somando 1 a x\n",
      "O valor x nessa intençao e: 1\n",
      " x ainda e maior que 10, somando 1 a x\n",
      "O valor x nessa intençao e: 2\n",
      " x ainda e maior que 10, somando 1 a x\n",
      "O valor x nessa intençao e: 3\n",
      " x ainda e maior que 10, somando 1 a x\n",
      "O valor x nessa intençao e: 4\n",
      " x ainda e maior que 10, somando 1 a x\n",
      "O valor x nessa intençao e: 5\n",
      " x ainda e maior que 10, somando 1 a x\n",
      "O valor x nessa intençao e: 6\n",
      " x ainda e maior que 10, somando 1 a x\n",
      "O valor x nessa intençao e: 7\n",
      " x ainda e maior que 10, somando 1 a x\n",
      "O valor x nessa intençao e: 8\n",
      " x ainda e maior que 10, somando 1 a x\n",
      "O valor x nessa intençao e: 9\n",
      " x ainda e maior que 10, somando 1 a x\n",
      "Loop concluido!\n",
      "10\n"
     ]
    }
   ],
   "source": [
    "# Tambem e possivel usar a clausula else para encerrar o loop while\n",
    "x = 0\n",
    "\n",
    "while x < 10:\n",
    "    print(\"O valor x nessa intençao e:\" , x)\n",
    "    print(\" x ainda e maior que 10, somando 1 a x\")\n",
    "    x += 1\n",
    "else:\n",
    "    print(\"Loop concluido!\")\n",
    "    print(x)\n",
    "    "
   ]
  },
  {
   "cell_type": "markdown",
   "id": "6ad88dd8",
   "metadata": {},
   "source": [
    "## Pass, Break, Continue "
   ]
  },
  {
   "cell_type": "code",
   "execution_count": 4,
   "id": "dad6fd14",
   "metadata": {},
   "outputs": [
    {
     "name": "stdout",
     "output_type": "stream",
     "text": [
      "0\n",
      "1\n",
      "2\n",
      "3\n"
     ]
    }
   ],
   "source": [
    "# Se encontrarmos o numero 4 interrompe o loop\n",
    "valor = 0\n",
    "while valor < 10:\n",
    "    if valor == 4:\n",
    "        break\n",
    "    else:\n",
    "        pass\n",
    "    print(valor)\n",
    "    valor = valor + 1\n",
    "            "
   ]
  },
  {
   "cell_type": "code",
   "execution_count": 9,
   "id": "e4e26392",
   "metadata": {},
   "outputs": [
    {
     "name": "stdout",
     "output_type": "stream",
     "text": [
      "P\n",
      "y\n",
      "t\n",
      "h\n",
      "o\n",
      "n\n",
      " \n",
      "e\n",
      " \n",
      " \n",
      "i\n",
      "n\n",
      "c\n",
      "r\n",
      "i\n",
      "v\n",
      "e\n",
      "l\n",
      "!\n"
     ]
    }
   ],
   "source": [
    "# Desconsideramos o caracter z ao imprimir a frase\n",
    "for letra in \"Python e zzz incrivel!\":\n",
    "    if letra == \"z\":\n",
    "        continue\n",
    "    print(letra)"
   ]
  },
  {
   "cell_type": "markdown",
   "id": "5f653d65",
   "metadata": {},
   "source": [
    "## While e For juntos\n",
    "\n",
    "Vamos encontrar numeros primo sem uma coleçao de numeros usando loops While e For juntos.\n",
    "\n",
    "Um numero primo e um numero natural maior que 1 que e divisivel apenas por um e por ele mesmo. Isso significa que nao ha nenhum outro numero inteiro que possa dividir o numero primo sem deixa resto. Por exemplo o numero 2 e primo, pois e divisivel por 1 e 2. O numero 4 nao e primo, pois e divisivel por 2.\n",
    "\n",
    "Aqui esta um Pseudocodigo:"
   ]
  },
  {
   "cell_type": "raw",
   "id": "05aba565",
   "metadata": {},
   "source": [
    "Inicialize uma lista vazia para armazenar os numeros primos\n",
    "Para cada numero N entre 2 e 30:\n",
    "  Inicialize uma variavel como eh_primo como verdadeira\n",
    "  Para cada numero i entre 2 e N/2:\n",
    "    Se N e divisivel por i, entao:\n",
    "      Altere a variavel eh_primo para falso\n",
    "      Pare de Verificar os outros numeros\n",
    "  Se a variavel eh_primo ainda e verdaddeira, adicione N a lista de numeros primos\n",
    "Imprima a lista de numeros primos"
   ]
  },
  {
   "cell_type": "code",
   "execution_count": 3,
   "id": "2d042978",
   "metadata": {},
   "outputs": [
    {
     "name": "stdout",
     "output_type": "stream",
     "text": [
      "[2, 3, 5, 7, 11, 13, 17, 19, 23, 29]\n",
      "Wall time: 1.5 ms\n"
     ]
    }
   ],
   "source": [
    "%%time\n",
    "\n",
    "# Encontrando numeros primos entre 2 e 30 usando loops While e For\n",
    "\n",
    "# Variavel para armazenar numeros primos\n",
    "primos = []\n",
    "\n",
    "# Loop For para percorre numeros de 2 a 30\n",
    "for num in range(2,31):\n",
    "    \n",
    "    # Variavel de controle\n",
    "    eh_primo = True\n",
    "    \n",
    "    # Loop While para verificar se o numero e primo\n",
    "    i = 2\n",
    "    while i <= num // 2:\n",
    "        if num % i == 0:\n",
    "            eh_primo = False\n",
    "            break\n",
    "        i += 1\n",
    "        \n",
    "    # Adicionando o numero primo a lista\n",
    "    if eh_primo:\n",
    "        primos.append(num)\n",
    "        \n",
    "# Imprimindo a lista de numeros primos\n",
    "print(primos)"
   ]
  },
  {
   "cell_type": "code",
   "execution_count": 10,
   "id": "9f330161",
   "metadata": {},
   "outputs": [
    {
     "name": "stdout",
     "output_type": "stream",
     "text": [
      "2 e um numero primo\n",
      "3 e um numero primo\n",
      "5 e um numero primo\n",
      "7 e um numero primo\n",
      "11 e um numero primo\n",
      "13 e um numero primo\n",
      "17 e um numero primo\n",
      "19 e um numero primo\n",
      "23 e um numero primo\n",
      "29 e um numero primo\n",
      "Wall time: 503 µs\n"
     ]
    }
   ],
   "source": [
    "%%time\n",
    "\n",
    "# Encontrando numeros primos entre 2 e 30 usando loop for while (OUTRO EXEMPLO)\n",
    "\n",
    "# Loop for para percorrer numero entre 2 a 30\n",
    "for i in range(2,31):\n",
    "\n",
    "    # Variavel de Controle\n",
    "    j = 2\n",
    "    \n",
    "    # Contador\n",
    "    valor = 0\n",
    "    \n",
    "    # Loop while para verificar se o numero e primo\n",
    "    while j < i:\n",
    "        if i % j == 0:\n",
    "            valor = 1\n",
    "            j = j + 1\n",
    "        else:\n",
    "            j = j + 1\n",
    "                \n",
    "    if valor == 0:\n",
    "        print(str(i) + \" e um numero primo\")\n",
    "        valor = 0\n",
    "    else:\n",
    "        valor = 0"
   ]
  },
  {
   "cell_type": "markdown",
   "id": "a0aa0188",
   "metadata": {},
   "source": [
    "# Fim"
   ]
  },
  {
   "cell_type": "code",
   "execution_count": null,
   "id": "1aae1ac5",
   "metadata": {},
   "outputs": [],
   "source": []
  }
 ],
 "metadata": {
  "kernelspec": {
   "display_name": "Python 3 (ipykernel)",
   "language": "python",
   "name": "python3"
  },
  "language_info": {
   "codemirror_mode": {
    "name": "ipython",
    "version": 3
   },
   "file_extension": ".py",
   "mimetype": "text/x-python",
   "name": "python",
   "nbconvert_exporter": "python",
   "pygments_lexer": "ipython3",
   "version": "3.9.13"
  }
 },
 "nbformat": 4,
 "nbformat_minor": 5
}
